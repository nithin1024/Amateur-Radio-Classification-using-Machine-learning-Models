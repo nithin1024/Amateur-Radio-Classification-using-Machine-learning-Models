{
 "cells": [
  {
   "cell_type": "code",
   "execution_count": 47,
   "metadata": {
    "id": "BOs9zPII0Rqc"
   },
   "outputs": [],
   "source": [
    "import pandas as pd\n",
    "import numpy as np\n",
    "import matplotlib.pyplot as plt;\n",
    "import seaborn as sns;\n",
    "from sklearn.model_selection import train_test_split\n",
    "from sklearn.svm import SVC\n",
    "from sklearn.metrics import accuracy_score, classification_report, confusion_matrix"
   ]
  },
  {
   "cell_type": "code",
   "execution_count": 49,
   "metadata": {
    "colab": {
     "base_uri": "https://localhost:8080/"
    },
    "id": "rddypY4QwtGL",
    "outputId": "65aceefd-a955-48f9-b231-54a4b6e9030e"
   },
   "outputs": [
    {
     "name": "stdout",
     "output_type": "stream",
     "text": [
      "Datasets combined and shuffled successfully!\n"
     ]
    }
   ],
   "source": [
    "import pandas as pd\n",
    "\n",
    "# Load your datasets\n",
    "dataset1 = pd.read_csv('SDC_converted_AM.csv')\n",
    "dataset2 = pd.read_csv(\"SDC_NFM.csv\")\n",
    "dataset3 = pd.read_csv('SDC_converted_WFM.csv')\n",
    "\n",
    "# Determine the minimum size across the three datasets\n",
    "min_size = min(len(dataset1), len(dataset2), len(dataset3))\n",
    "\n",
    "# Take equal-sized samples from each dataset\n",
    "subset1 = dataset1.sample(n=7000, random_state=42)\n",
    "subset2 = dataset2.sample(n=9000, random_state=42)\n",
    "subset3 = dataset3.sample(n=5000, random_state=42)\n",
    "\n",
    "# Combine all subsets into one\n",
    "combined_dataset = pd.concat([subset1, subset2, subset3], axis=0, ignore_index=True)\n",
    "\n",
    "# Shuffle the combined dataset randomly\n",
    "shuffled_dataset = combined_dataset.sample(frac=1, random_state=42).reset_index(drop=True)\n",
    "\n",
    "# Save the combined shuffled dataset (optional)\n",
    "shuffled_dataset.to_csv('SDC_dataset.csv', index=False)\n",
    "\n",
    "print(\"Datasets combined and shuffled successfully!\")\n"
   ]
  },
  {
   "cell_type": "code",
   "execution_count": 50,
   "metadata": {
    "colab": {
     "base_uri": "https://localhost:8080/"
    },
    "id": "BUj0_5Va4fqN",
    "outputId": "74f2e33a-a42e-418b-d19a-f21161a1abcc"
   },
   "outputs": [
    {
     "name": "stdout",
     "output_type": "stream",
     "text": [
      "(3557180, 2)\n",
      "(286756, 2)\n",
      "(473372, 2)\n"
     ]
    }
   ],
   "source": [
    "print(dataset1.shape)\n",
    "print(dataset2.shape)\n",
    "print(dataset3.shape)"
   ]
  },
  {
   "cell_type": "code",
   "execution_count": 51,
   "metadata": {
    "colab": {
     "base_uri": "https://localhost:8080/"
    },
    "id": "eaQ5LdTY4-pi",
    "outputId": "658c86e1-3056-4f8b-eabe-fb9c0bbb6997"
   },
   "outputs": [
    {
     "name": "stdout",
     "output_type": "stream",
     "text": [
      "(7000, 2)\n",
      "(9000, 2)\n",
      "(5000, 2)\n"
     ]
    }
   ],
   "source": [
    "\n",
    "print(subset1.shape)\n",
    "print(subset2.shape)\n",
    "print(subset3.shape)"
   ]
  },
  {
   "cell_type": "code",
   "execution_count": 52,
   "metadata": {
    "colab": {
     "base_uri": "https://localhost:8080/",
     "height": 206
    },
    "id": "EnA4iql6yDhV",
    "outputId": "709a0a21-e32a-440b-e59c-b1c577020a16"
   },
   "outputs": [
    {
     "data": {
      "text/html": [
       "<div>\n",
       "<style scoped>\n",
       "    .dataframe tbody tr th:only-of-type {\n",
       "        vertical-align: middle;\n",
       "    }\n",
       "\n",
       "    .dataframe tbody tr th {\n",
       "        vertical-align: top;\n",
       "    }\n",
       "\n",
       "    .dataframe thead th {\n",
       "        text-align: right;\n",
       "    }\n",
       "</style>\n",
       "<table border=\"1\" class=\"dataframe\">\n",
       "  <thead>\n",
       "    <tr style=\"text-align: right;\">\n",
       "      <th></th>\n",
       "      <th>0</th>\n",
       "      <th>Type_of_Signal</th>\n",
       "    </tr>\n",
       "  </thead>\n",
       "  <tbody>\n",
       "    <tr>\n",
       "      <th>0</th>\n",
       "      <td>4.005777e-11</td>\n",
       "      <td>AM</td>\n",
       "    </tr>\n",
       "    <tr>\n",
       "      <th>1</th>\n",
       "      <td>1.893531e+14</td>\n",
       "      <td>WFM</td>\n",
       "    </tr>\n",
       "    <tr>\n",
       "      <th>2</th>\n",
       "      <td>6.563528e-07</td>\n",
       "      <td>AM</td>\n",
       "    </tr>\n",
       "    <tr>\n",
       "      <th>3</th>\n",
       "      <td>6.591305e-10</td>\n",
       "      <td>WFM</td>\n",
       "    </tr>\n",
       "    <tr>\n",
       "      <th>4</th>\n",
       "      <td>-4.963174e-01</td>\n",
       "      <td>NFM</td>\n",
       "    </tr>\n",
       "  </tbody>\n",
       "</table>\n",
       "</div>"
      ],
      "text/plain": [
       "              0 Type_of_Signal\n",
       "0  4.005777e-11             AM\n",
       "1  1.893531e+14            WFM\n",
       "2  6.563528e-07             AM\n",
       "3  6.591305e-10            WFM\n",
       "4 -4.963174e-01            NFM"
      ]
     },
     "execution_count": 52,
     "metadata": {},
     "output_type": "execute_result"
    }
   ],
   "source": [
    "df = pd.read_csv('SDC_dataset.csv')\n",
    "df.head()"
   ]
  },
  {
   "cell_type": "code",
   "execution_count": 53,
   "metadata": {
    "colab": {
     "base_uri": "https://localhost:8080/"
    },
    "id": "2zuU0ym9yPn8",
    "outputId": "ae1fde89-5d02-4359-cf54-d2b5f796e86c"
   },
   "outputs": [
    {
     "data": {
      "text/plain": [
       "(21000, 2)"
      ]
     },
     "execution_count": 53,
     "metadata": {},
     "output_type": "execute_result"
    }
   ],
   "source": [
    "df.shape"
   ]
  },
  {
   "cell_type": "code",
   "execution_count": 54,
   "metadata": {
    "colab": {
     "base_uri": "https://localhost:8080/",
     "height": 424
    },
    "id": "mCJ2jMLI3G9x",
    "outputId": "2252d77b-83d2-4de5-cb57-9e86d282c59f",
    "scrolled": true
   },
   "outputs": [
    {
     "data": {
      "text/html": [
       "<div>\n",
       "<style scoped>\n",
       "    .dataframe tbody tr th:only-of-type {\n",
       "        vertical-align: middle;\n",
       "    }\n",
       "\n",
       "    .dataframe tbody tr th {\n",
       "        vertical-align: top;\n",
       "    }\n",
       "\n",
       "    .dataframe thead th {\n",
       "        text-align: right;\n",
       "    }\n",
       "</style>\n",
       "<table border=\"1\" class=\"dataframe\">\n",
       "  <thead>\n",
       "    <tr style=\"text-align: right;\">\n",
       "      <th></th>\n",
       "      <th>0</th>\n",
       "      <th>Type_of_Signal</th>\n",
       "    </tr>\n",
       "  </thead>\n",
       "  <tbody>\n",
       "    <tr>\n",
       "      <th>0</th>\n",
       "      <td>4.005777e-11</td>\n",
       "      <td>AM</td>\n",
       "    </tr>\n",
       "    <tr>\n",
       "      <th>1</th>\n",
       "      <td>1.893531e+14</td>\n",
       "      <td>WFM</td>\n",
       "    </tr>\n",
       "    <tr>\n",
       "      <th>2</th>\n",
       "      <td>6.563528e-07</td>\n",
       "      <td>AM</td>\n",
       "    </tr>\n",
       "    <tr>\n",
       "      <th>3</th>\n",
       "      <td>6.591305e-10</td>\n",
       "      <td>WFM</td>\n",
       "    </tr>\n",
       "    <tr>\n",
       "      <th>4</th>\n",
       "      <td>-4.963174e-01</td>\n",
       "      <td>NFM</td>\n",
       "    </tr>\n",
       "    <tr>\n",
       "      <th>...</th>\n",
       "      <td>...</td>\n",
       "      <td>...</td>\n",
       "    </tr>\n",
       "    <tr>\n",
       "      <th>20995</th>\n",
       "      <td>-4.882896e-01</td>\n",
       "      <td>NFM</td>\n",
       "    </tr>\n",
       "    <tr>\n",
       "      <th>20996</th>\n",
       "      <td>-4.997505e-01</td>\n",
       "      <td>NFM</td>\n",
       "    </tr>\n",
       "    <tr>\n",
       "      <th>20997</th>\n",
       "      <td>7.847345e-12</td>\n",
       "      <td>AM</td>\n",
       "    </tr>\n",
       "    <tr>\n",
       "      <th>20998</th>\n",
       "      <td>1.622254e-07</td>\n",
       "      <td>AM</td>\n",
       "    </tr>\n",
       "    <tr>\n",
       "      <th>20999</th>\n",
       "      <td>-4.964370e-01</td>\n",
       "      <td>NFM</td>\n",
       "    </tr>\n",
       "  </tbody>\n",
       "</table>\n",
       "<p>21000 rows × 2 columns</p>\n",
       "</div>"
      ],
      "text/plain": [
       "                  0 Type_of_Signal\n",
       "0      4.005777e-11             AM\n",
       "1      1.893531e+14            WFM\n",
       "2      6.563528e-07             AM\n",
       "3      6.591305e-10            WFM\n",
       "4     -4.963174e-01            NFM\n",
       "...             ...            ...\n",
       "20995 -4.882896e-01            NFM\n",
       "20996 -4.997505e-01            NFM\n",
       "20997  7.847345e-12             AM\n",
       "20998  1.622254e-07             AM\n",
       "20999 -4.964370e-01            NFM\n",
       "\n",
       "[21000 rows x 2 columns]"
      ]
     },
     "execution_count": 54,
     "metadata": {},
     "output_type": "execute_result"
    }
   ],
   "source": [
    "df"
   ]
  },
  {
   "cell_type": "code",
   "execution_count": 55,
   "metadata": {
    "colab": {
     "base_uri": "https://localhost:8080/"
    },
    "id": "jhjfVEtcyaNv",
    "outputId": "c314cfbd-7ef8-4dfc-eb5f-92222241e940"
   },
   "outputs": [
    {
     "name": "stdout",
     "output_type": "stream",
     "text": [
      "0                 0\n",
      "Type_of_Signal    0\n",
      "dtype: int64\n"
     ]
    }
   ],
   "source": [
    "print(df.isnull().sum())"
   ]
  },
  {
   "cell_type": "code",
   "execution_count": 56,
   "metadata": {
    "id": "8pSbXrZE1Jy5"
   },
   "outputs": [],
   "source": [
    "y = df['Type_of_Signal']"
   ]
  },
  {
   "cell_type": "code",
   "execution_count": 57,
   "metadata": {
    "colab": {
     "base_uri": "https://localhost:8080/",
     "height": 489
    },
    "id": "mWL4iqHY0DsK",
    "outputId": "536a57bb-6830-4e1d-b1d9-54f6d6a69a98"
   },
   "outputs": [
    {
     "name": "stdout",
     "output_type": "stream",
     "text": [
      "['AM' 'NFM' 'WFM'] [7000 9000 5000]\n"
     ]
    },
    {
     "data": {
      "image/png": "[encoded data removed]",
      "text/plain": [
       "<Figure size 640x480 with 1 Axes>"
      ]
     },
     "metadata": {},
     "output_type": "display_data"
    }
   ],
   "source": [
    "uq,ct = np.unique(y,return_counts=True);\n",
    "print(uq,ct)\n",
    "plt.bar(['AM','NFM','WFM'],ct)\n",
    "plt.title('Frequency of Variables in Target Class')\n",
    "plt.xlabel('Categories (x)')\n",
    "plt.ylabel('Values (y)')  # You can choose different colors\n",
    "plt.show()"
   ]
  },
  {
   "cell_type": "code",
   "execution_count": 58,
   "metadata": {},
   "outputs": [],
   "source": [
    "# K-Means Clustering and Hierarchical Clustering"
   ]
  },
  {
   "cell_type": "code",
   "execution_count": 59,
   "metadata": {
    "id": "9Heh2exp6xF6"
   },
   "outputs": [
    {
     "name": "stdout",
     "output_type": "stream",
     "text": [
      "Silhouette Score for K-Means: 0.99\n"
     ]
    },
    {
     "data": {
      "image/png": "[encoded data removed]",
      "text/plain": [
       "<Figure size 640x480 with 1 Axes>"
      ]
     },
     "metadata": {},
     "output_type": "display_data"
    },
    {
     "name": "stdout",
     "output_type": "stream",
     "text": [
      "Silhouette Score for Hierarchical Clustering: 0.99\n"
     ]
    },
    {
     "data": {
      "image/png": "[encoded data removed]",
      "text/plain": [
       "<Figure size 640x480 with 1 Axes>"
      ]
     },
     "metadata": {},
     "output_type": "display_data"
    }
   ],
   "source": [
    "import pandas as pd\n",
    "import matplotlib.pyplot as plt\n",
    "from sklearn.cluster import KMeans, AgglomerativeClustering\n",
    "from sklearn.preprocessing import StandardScaler\n",
    "from sklearn.metrics import silhouette_score\n",
    "from scipy.cluster.hierarchy import dendrogram, linkage\n",
    "\n",
    "# Extract the feature column\n",
    "feature = df[['0']]  # Using double brackets to keep it a DataFrame\n",
    "\n",
    "# Standardize the feature\n",
    "scaler = StandardScaler()\n",
    "scaled_feature = scaler.fit_transform(feature)\n",
    "\n",
    "# K-Means Clustering\n",
    "kmeans = KMeans(n_clusters=3, random_state=42)  # Adjust 'n_clusters' as needed\n",
    "kmeans_labels = kmeans.fit_predict(scaled_feature)\n",
    "\n",
    "# Evaluate with Silhouette Score\n",
    "silhouette_kmeans = silhouette_score(scaled_feature, kmeans_labels)\n",
    "print(f\"Silhouette Score for K-Means: {silhouette_kmeans:.2f}\")\n",
    "\n",
    "# Plot K-Means Clusters\n",
    "plt.scatter(scaled_feature, [0] * len(scaled_feature), c=kmeans_labels, cmap='viridis', s=50)\n",
    "plt.title('K-Means Clustering')\n",
    "plt.xlabel('Standardized Feature')\n",
    "plt.show()\n",
    "\n",
    "# Hierarchical Clustering (Agglomerative)\n",
    "hierarchical = AgglomerativeClustering(n_clusters=3)  # Adjust 'n_clusters' as needed\n",
    "hierarchical_labels = hierarchical.fit_predict(scaled_feature)\n",
    "\n",
    "# Evaluate with Silhouette Score\n",
    "silhouette_hierarchical = silhouette_score(scaled_feature, hierarchical_labels)\n",
    "print(f\"Silhouette Score for Hierarchical Clustering: {silhouette_hierarchical:.2f}\")\n",
    "\n",
    "# Plot Hierarchical Clusters\n",
    "plt.scatter(scaled_feature, [0] * len(scaled_feature), c=hierarchical_labels, cmap='plasma', s=50)\n",
    "plt.title('Hierarchical Clustering')\n",
    "plt.xlabel('Standardized Feature')\n",
    "plt.show()"
   ]
  },
  {
   "cell_type": "code",
   "execution_count": 60,
   "metadata": {},
   "outputs": [],
   "source": [
    "# XG Boost"
   ]
  },
  {
   "cell_type": "code",
   "execution_count": 61,
   "metadata": {},
   "outputs": [
    {
     "name": "stderr",
     "output_type": "stream",
     "text": [
      "C:\\Users\\nithi\\anaconda3\\Lib\\site-packages\\xgboost\\core.py:158: UserWarning: [19:01:33] WARNING: C:\\buildkite-agent\\builds\\buildkite-windows-cpu-autoscaling-group-i-0c55ff5f71b100e98-1\\xgboost\\xgboost-ci-windows\\src\\learner.cc:740: \n",
      "Parameters: { \"use_label_encoder\" } are not used.\n",
      "\n",
      "  warnings.warn(smsg, UserWarning)\n"
     ]
    },
    {
     "name": "stdout",
     "output_type": "stream",
     "text": [
      "Accuracy: 84.84%\n",
      "\n",
      "Classification Report:\n",
      "              precision    recall  f1-score   support\n",
      "\n",
      "           0       0.71      0.91      0.80      2094\n",
      "           1       1.00      1.00      1.00      2690\n",
      "           2       0.80      0.49      0.61      1516\n",
      "\n",
      "    accuracy                           0.85      6300\n",
      "   macro avg       0.84      0.80      0.80      6300\n",
      "weighted avg       0.86      0.85      0.84      6300\n",
      "\n",
      "Confusion Matrix:\n",
      "[[1912    0  182]\n",
      " [   1 2689    0]\n",
      " [ 772    0  744]]\n"
     ]
    }
   ],
   "source": [
    "import pandas as pd\n",
    "from sklearn.model_selection import train_test_split\n",
    "from sklearn.preprocessing import LabelEncoder\n",
    "from sklearn.metrics import accuracy_score\n",
    "import xgboost as xgb\n",
    "\n",
    "\n",
    "# Preprocess the data\n",
    "# Extract features and target variable\n",
    "X = df[['0']]  # Feature column(s)\n",
    "y = df['Type_of_Signal']  # Target variable\n",
    "\n",
    "# Encode the categorical target values using LabelEncoder\n",
    "label_encoder = LabelEncoder()\n",
    "y_encoded = label_encoder.fit_transform(y)\n",
    "\n",
    "# Split the data into training and testing sets\n",
    "X_train, X_test, y_train, y_test = train_test_split(X, y_encoded, test_size=0.3, random_state=42)\n",
    "\n",
    "# Initialize XGBoost model\n",
    "model = xgb.XGBClassifier(use_label_encoder=False, eval_metric='mlogloss')\n",
    "\n",
    "# Train the model\n",
    "model.fit(X_train, y_train)\n",
    "\n",
    "# Make predictions on the test set\n",
    "y_pred = model.predict(X_test)\n",
    "\n",
    "# Evaluate the model's performance\n",
    "accuracy = accuracy_score(y_test, y_pred)\n",
    "print(f\"Accuracy: {accuracy * 100:.2f}%\")\n",
    "\n",
    "print(\"\\nClassification Report:\")\n",
    "print(classification_report(y_test, y_pred))\n",
    "\n",
    "# Optionally, you can also display the confusion matrix to see how well the model performs across classes\n",
    "from sklearn.metrics import confusion_matrix\n",
    "print(\"Confusion Matrix:\")\n",
    "print(confusion_matrix(y_test, y_pred))\n"
   ]
  },
  {
   "cell_type": "code",
   "execution_count": 66,
   "metadata": {},
   "outputs": [],
   "source": [
    "# KNN"
   ]
  },
  {
   "cell_type": "code",
   "execution_count": 71,
   "metadata": {},
   "outputs": [
    {
     "name": "stdout",
     "output_type": "stream",
     "text": [
      "KNN Accuracy: 0.8373015873015873\n",
      "\n",
      "Classification Report:\n",
      "               precision    recall  f1-score   support\n",
      "\n",
      "           0       0.77      0.73      0.75      2094\n",
      "           1       1.00      1.00      1.00      2690\n",
      "           2       0.65      0.70      0.68      1516\n",
      "\n",
      "    accuracy                           0.84      6300\n",
      "   macro avg       0.81      0.81      0.81      6300\n",
      "weighted avg       0.84      0.84      0.84      6300\n",
      "\n"
     ]
    }
   ],
   "source": [
    "from sklearn.neighbors import KNeighborsClassifier\n",
    "\n",
    "# Train KNN model\n",
    "knn = KNeighborsClassifier(n_neighbors=5)  # You can tune 'n_neighbors'\n",
    "knn.fit(X_train, y_train)\n",
    "\n",
    "# Predict and evaluate\n",
    "y_pred_knn = knn.predict(X_test)\n",
    "print(\"KNN Accuracy:\", accuracy_score(y_test, y_pred_knn))\n",
    "print(\"\\nClassification Report:\\n\", classification_report(y_test, y_pred_knn))\n"
   ]
  },
  {
   "cell_type": "code",
   "execution_count": 74,
   "metadata": {},
   "outputs": [
    {
     "name": "stderr",
     "output_type": "stream",
     "text": [
      "C:\\Users\\nithi\\anaconda3\\Lib\\site-packages\\xgboost\\core.py:158: UserWarning: [19:02:48] WARNING: C:\\buildkite-agent\\builds\\buildkite-windows-cpu-autoscaling-group-i-0c55ff5f71b100e98-1\\xgboost\\xgboost-ci-windows\\src\\learner.cc:740: \n",
      "Parameters: { \"use_label_encoder\" } are not used.\n",
      "\n",
      "  warnings.warn(smsg, UserWarning)\n",
      "C:\\Users\\nithi\\anaconda3\\Lib\\site-packages\\xgboost\\core.py:158: UserWarning: [19:07:00] WARNING: C:\\buildkite-agent\\builds\\buildkite-windows-cpu-autoscaling-group-i-0c55ff5f71b100e98-1\\xgboost\\xgboost-ci-windows\\src\\learner.cc:740: \n",
      "Parameters: { \"use_label_encoder\" } are not used.\n",
      "\n",
      "  warnings.warn(smsg, UserWarning)\n",
      "C:\\Users\\nithi\\anaconda3\\Lib\\site-packages\\xgboost\\core.py:158: UserWarning: [19:07:00] WARNING: C:\\buildkite-agent\\builds\\buildkite-windows-cpu-autoscaling-group-i-0c55ff5f71b100e98-1\\xgboost\\xgboost-ci-windows\\src\\learner.cc:740: \n",
      "Parameters: { \"use_label_encoder\" } are not used.\n",
      "\n",
      "  warnings.warn(smsg, UserWarning)\n",
      "C:\\Users\\nithi\\anaconda3\\Lib\\site-packages\\xgboost\\core.py:158: UserWarning: [19:07:00] WARNING: C:\\buildkite-agent\\builds\\buildkite-windows-cpu-autoscaling-group-i-0c55ff5f71b100e98-1\\xgboost\\xgboost-ci-windows\\src\\learner.cc:740: \n",
      "Parameters: { \"use_label_encoder\" } are not used.\n",
      "\n",
      "  warnings.warn(smsg, UserWarning)\n",
      "C:\\Users\\nithi\\anaconda3\\Lib\\site-packages\\xgboost\\core.py:158: UserWarning: [19:07:01] WARNING: C:\\buildkite-agent\\builds\\buildkite-windows-cpu-autoscaling-group-i-0c55ff5f71b100e98-1\\xgboost\\xgboost-ci-windows\\src\\learner.cc:740: \n",
      "Parameters: { \"use_label_encoder\" } are not used.\n",
      "\n",
      "  warnings.warn(smsg, UserWarning)\n",
      "C:\\Users\\nithi\\anaconda3\\Lib\\site-packages\\xgboost\\core.py:158: UserWarning: [19:07:01] WARNING: C:\\buildkite-agent\\builds\\buildkite-windows-cpu-autoscaling-group-i-0c55ff5f71b100e98-1\\xgboost\\xgboost-ci-windows\\src\\learner.cc:740: \n",
      "Parameters: { \"use_label_encoder\" } are not used.\n",
      "\n",
      "  warnings.warn(smsg, UserWarning)\n"
     ]
    },
    {
     "name": "stdout",
     "output_type": "stream",
     "text": [
      "Accuracy: 0.8506349206349206\n",
      "\n",
      "Classification Report:\n",
      "               precision    recall  f1-score   support\n",
      "\n",
      "           0       0.73      0.88      0.80      2094\n",
      "           1       1.00      1.00      1.00      2690\n",
      "           2       0.77      0.55      0.64      1516\n",
      "\n",
      "    accuracy                           0.85      6300\n",
      "   macro avg       0.83      0.81      0.81      6300\n",
      "weighted avg       0.85      0.85      0.85      6300\n",
      "\n"
     ]
    }
   ],
   "source": [
    "from sklearn.ensemble import StackingClassifier\n",
    "from sklearn.neighbors import KNeighborsClassifier\n",
    "from sklearn.svm import SVC\n",
    "from xgboost import XGBClassifier\n",
    "from sklearn.linear_model import LogisticRegression\n",
    "from sklearn.model_selection import train_test_split\n",
    "from sklearn.metrics import accuracy_score, classification_report\n",
    "import pandas as pd\n",
    "\n",
    "# Feature and target extraction\n",
    "X = df[['0']]  # Replace with your actual feature columns if more than one\n",
    "y = df['Type_of_Signal']\n",
    "\n",
    "# Encoding the target variable if it's categorical\n",
    "from sklearn.preprocessing import LabelEncoder\n",
    "label_encoder = LabelEncoder()\n",
    "y = label_encoder.fit_transform(y)\n",
    "\n",
    "# Splitting the dataset\n",
    "X_train, X_test, y_train, y_test = train_test_split(X, y, test_size=0.3, random_state=42)\n",
    "\n",
    "# Define base learners\n",
    "base_learners = [\n",
    "    ('knn', KNeighborsClassifier(n_neighbors=5)),\n",
    "    ('svm', SVC(kernel='poly', probability=True, random_state=42)),\n",
    "    ('xgb', XGBClassifier(use_label_encoder=False, eval_metric='mlogloss', random_state=42))\n",
    "]\n",
    "\n",
    "# Define final model (meta-model)\n",
    "final_model = LogisticRegression()\n",
    "\n",
    "# Create the Stacking Classifier\n",
    "stacking_model = StackingClassifier(estimators=base_learners, final_estimator=final_model)\n",
    "\n",
    "# Train the Stacking Classifier\n",
    "stacking_model.fit(X_train, y_train)\n",
    "\n",
    "# Predict on the test set\n",
    "y_pred = stacking_model.predict(X_test)\n",
    "\n",
    "# Evaluate the model\n",
    "print(\"Accuracy:\", accuracy_score(y_test, y_pred))\n",
    "print(\"\\nClassification Report:\\n\", classification_report(y_test, y_pred))\n"
   ]
  },
  {
   "cell_type": "code",
   "execution_count": 265,
   "metadata": {},
   "outputs": [
    {
     "name": "stdout",
     "output_type": "stream",
     "text": [
      "Datasets combined and shuffled successfully!\n"
     ]
    }
   ],
   "source": [
    "import pandas as pd\n",
    "\n",
    "# Load your datasets\n",
    "dataset1 = pd.read_csv('SDC_converted_AM.csv')\n",
    "dataset2 = pd.read_csv(\"SDC_NFM.csv\")\n",
    "dataset3 = pd.read_csv('SDC_converted_WFM.csv')\n",
    "\n",
    "# Determine the minimum size across the three datasets\n",
    "min_size = min(len(dataset1), len(dataset2), len(dataset3))\n",
    "\n",
    "# Take equal-sized samples from each dataset\n",
    "subset1 = dataset1.sample(n=9900, random_state=42)\n",
    "subset2 = dataset2.sample(n=9000, random_state=42)\n",
    "subset3 = dataset3.sample(n=10000, random_state=42)\n",
    "\n",
    "# Combine all subsets into one\n",
    "combined_dataset = pd.concat([subset1, subset2, subset3], axis=0, ignore_index=True)\n",
    "\n",
    "# Shuffle the combined dataset randomly\n",
    "shuffled_dataset = combined_dataset.sample(frac=1, random_state=42).reset_index(drop=True)\n",
    "\n",
    "# Save the combined shuffled dataset (optional)\n",
    "shuffled_dataset.to_csv('SDC_dataset1.csv', index=False)\n",
    "\n",
    "print(\"Datasets combined and shuffled successfully!\")\n"
   ]
  },
  {
   "cell_type": "code",
   "execution_count": 266,
   "metadata": {},
   "outputs": [],
   "source": [
    "df = pd.read_csv('SDC_dataset1.csv')"
   ]
  },
  {
   "cell_type": "code",
   "execution_count": 267,
   "metadata": {},
   "outputs": [
    {
     "name": "stdout",
     "output_type": "stream",
     "text": [
      "Accuracy: 72.57%\n",
      "\n",
      "Classification Report:\n",
      "               precision    recall  f1-score   support\n",
      "\n",
      "           0       0.69      0.38      0.49      2986\n",
      "           1       1.00      1.00      1.00      2721\n",
      "           2       0.57      0.83      0.67      2963\n",
      "\n",
      "    accuracy                           0.73      8670\n",
      "   macro avg       0.75      0.73      0.72      8670\n",
      "weighted avg       0.74      0.73      0.71      8670\n",
      "\n"
     ]
    }
   ],
   "source": [
    "import pandas as pd\n",
    "from sklearn.model_selection import train_test_split\n",
    "from sklearn.preprocessing import LabelEncoder\n",
    "from sklearn.ensemble import RandomForestClassifier\n",
    "from sklearn.metrics import accuracy_score, classification_report\n",
    "\n",
    "# Feature and target extraction\n",
    "X = df[['0']]  # Replace with the correct feature columns\n",
    "y = df['Type_of_Signal']  # Target column\n",
    "\n",
    "# Encode the target variable\n",
    "label_encoder = LabelEncoder()\n",
    "y_encoded = label_encoder.fit_transform(y)\n",
    "\n",
    "# Split the dataset into training and testing sets\n",
    "X_train, X_test, y_train, y_test = train_test_split(X, y_encoded, test_size=0.3, random_state=42)\n",
    "\n",
    "# Initialize Random Forest model\n",
    "rf_model = RandomForestClassifier(n_estimators=100, random_state=42)\n",
    "\n",
    "# Train the model\n",
    "rf_model.fit(X_train, y_train)\n",
    "\n",
    "# Predict on the test set\n",
    "y_pred = rf_model.predict(X_test)\n",
    "\n",
    "# Evaluate the model\n",
    "accuracy = accuracy_score(y_test, y_pred)\n",
    "print(f\"Accuracy: {accuracy * 100:.2f}%\")\n",
    "print(\"\\nClassification Report:\\n\", classification_report(y_test, y_pred))\n"
   ]
  },
  {
   "cell_type": "code",
   "execution_count": null,
   "metadata": {},
   "outputs": [],
   "source": []
  }
 ],
 "metadata": {
  "colab": {
   "provenance": []
  },
  "kernelspec": {
   "display_name": "Python 3 (ipykernel)",
   "language": "python",
   "name": "python3"
  },
  "language_info": {
   "codemirror_mode": {
    "name": "ipython",
    "version": 3
   },
   "file_extension": ".py",
   "mimetype": "text/x-python",
   "name": "python",
   "nbconvert_exporter": "python",
   "pygments_lexer": "ipython3",
   "version": "3.12.7"
  }
 },
 "nbformat": 4,
 "nbformat_minor": 4
}
